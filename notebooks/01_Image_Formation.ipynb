{
 "cells": [
  {
   "cell_type": "markdown",
   "metadata": {},
   "source": [
    "# Pinhole Camera Model Practice Questions"
   ]
  },
  {
   "cell_type": "markdown",
   "metadata": {},
   "source": [
    "## Question 1: Perspective Projection"
   ]
  },
  {
   "cell_type": "markdown",
   "metadata": {},
   "source": [
    "A 3D point in the camera coordinate system is given by `p_c = [10, 5, 20]`. \n",
    "The camera has a focal length `f` of 50mm. \n",
    "Calculate the position of the projection of this point on the image plane in meters."
   ]
  },
  {
   "cell_type": "code",
   "execution_count": null,
   "metadata": {},
   "outputs": [],
   "source": [
    "# Your code here\n",
    "import numpy as np\n",
    "\n",
    "p_c = [10, 5, 20]\n",
    "f = 50/1000\n",
    "u_cm = (f)*(p_c[0]/p_c[2])\n",
    "v_cm = (f)*(p_c[1]/p_c[2])\n",
    "\n",
    "position = np.array([u_cm, v_cm])\n",
    "print(position)"
   ]
  },
  {
   "cell_type": "markdown",
   "metadata": {},
   "source": [
    "---"
   ]
  },
  {
   "cell_type": "markdown",
   "metadata": {},
   "source": [
    "## Question 2: Conversion to Pixels"
   ]
  },
  {
   "cell_type": "markdown",
   "metadata": {},
   "source": [
    "Given the projected point from Question 1, convert its coordinates from meters to pixels. \n",
    "Assume the following intrinsic parameters: \n",
    "- `s_x` = 800 pixels/meter\n",
    "- `s_y` = 800 pixels/meter\n",
    "- `o_x` = 320 pixels\n",
    "- `o_y` = 240 pixels\n",
    "What are the pixel coordinates `(u^I, v^I)`?"
   ]
  },
  {
   "cell_type": "code",
   "execution_count": null,
   "metadata": {},
   "outputs": [],
   "source": [
    "# Your code here\n",
    "s_x = 800\n",
    "s_y = 800\n",
    "o_x = 320\n",
    "o_y = 240\n",
    "\n",
    "u_I = (s_x)*(u_cm)+o_x\n",
    "v_I = (s_y)*(v_cm)+o_y\n",
    "\n",
    "cords = np.array([u_I, v_I])\n",
    "print(cords)"
   ]
  },
  {
   "cell_type": "markdown",
   "metadata": {},
   "source": [
    "---"
   ]
  },
  {
   "cell_type": "markdown",
   "metadata": {},
   "source": [
    "## Question 3: Intrinsic Matrix"
   ]
  },
  {
   "cell_type": "markdown",
   "metadata": {},
   "source": [
    "Construct the intrinsic calibration matrix `K` using the parameters from Question 2, assuming no skew (`s_θ = 0`)."
   ]
  },
  {
   "cell_type": "code",
   "execution_count": null,
   "metadata": {},
   "outputs": [],
   "source": [
    "# Your code here\n",
    "s_0 = 0\n",
    "\n",
    "k = np.array([[s_x*f, s_0*f, o_x],\n",
    "             [0, s_y*f, o_y],\n",
    "             [0, 0, 1]])\n",
    "print(k)"
   ]
  },
  {
   "cell_type": "markdown",
   "metadata": {},
   "source": [
    "---"
   ]
  },
  {
   "cell_type": "markdown",
   "metadata": {},
   "source": [
    "## Question 4: Point Projection with Known Pose"
   ]
  },
  {
   "cell_type": "markdown",
   "metadata": {},
   "source": [
    "A point in the world frame is given by `p_w = [2, 3, 50]`. The camera's pose `T_w^c` is given by an identity rotation matrix and a translation vector `t_w^c = [0, 0, 10]`. [cite_start]Using the intrinsic matrix `K` from Question 3, calculate the pixel coordinates of the projected point. [cite: 14, 16, 17]"
   ]
  },
  {
   "cell_type": "code",
   "execution_count": null,
   "metadata": {},
   "outputs": [],
   "source": [
    "# Your code here\n",
    "p_w = [2,3,50]\n",
    "t_w_c = np.array([[0], [0], [10]])\n",
    "r_cw = np.array([[1,0,0], [0,1,0], [0,0,1]])\n",
    "\n",
    "hom = np.append(p_w, 1, axis=None)\n",
    "ex = np.concatenate((r_cw, t_w_c), axis=1)\n",
    "proj = np.matmul(k, ex)\n",
    "pix = np.matmul(proj, hom)\n",
    "\n",
    "point = np.array([pix[0]/pix[2], pix[1]/pix[2]])\n",
    "print(point)"
   ]
  },
  {
   "cell_type": "markdown",
   "metadata": {},
   "source": [
    "---"
   ]
  },
  {
   "cell_type": "markdown",
   "metadata": {},
   "source": [
    "## Question 5: Radial Distortion"
   ]
  },
  {
   "cell_type": "markdown",
   "metadata": {},
   "source": [
    "A point is projected on the image plane at `(u_distort^I, v_distort^I) = (400, 350)` including radial distortion. Given distortion coefficients `a1 = 0.0001` and `a2 = 0.0000002` and the principal point `(o_x, o_y) = (320, 240)`, calculate the corrected pixel coordinates `(u^I, v^I)`."
   ]
  },
  {
   "cell_type": "code",
   "execution_count": null,
   "metadata": {},
   "outputs": [],
   "source": [
    "# Your code here\n",
    "a1 = 0.0001\n",
    "a2 = 0.0000002\n",
    "u_distort_I = 400\n",
    "v_distort_I = 350\n",
    "o_x = 320\n",
    "o_y = 240\n",
    "\n",
    "r2 = ((u_distort_I - o_x)**2) + ((v_distort_I - o_y)**2)\n",
    "r4 = r2**2\n",
    "u_I = ((u_distort_I - o_x)*(1 + a1*r2 + a2*(r4))) + o_x\n",
    "v_I = ((v_distort_I - o_y)*(1 + a1*r2 + a2*(r4))) + o_y\n",
    "\n",
    "cords = np.array([u_I, v_I])\n",
    "print(cords)"
   ]
  }
 ],
 "metadata": {
  "kernelspec": {
   "display_name": "Python 3",
   "language": "python",
   "name": "python3"
  },
  "language_info": {
   "codemirror_mode": {
    "name": "ipython",
    "version": 3
   },
   "file_extension": ".py",
   "mimetype": "text/x-python",
   "name": "python",
   "nbconvert_exporter": "python",
   "pygments_lexer": "ipython3",
   "version": "3.12.1"
  }
 },
 "nbformat": 4,
 "nbformat_minor": 4
}
